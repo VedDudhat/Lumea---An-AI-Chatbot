{
 "cells": [
  {
   "cell_type": "code",
   "execution_count": 5,
   "id": "181bbf82",
   "metadata": {},
   "outputs": [
    {
     "name": "stderr",
     "output_type": "stream",
     "text": [
      "Some weights of the model checkpoint at dunzhang/stella_en_400M_v5 were not used when initializing NewModel: {'new.pooler.dense.weight', 'new.pooler.dense.bias'}\n",
      "- This IS expected if you are initializing NewModel from the checkpoint of a model trained on another task or with another architecture (e.g. initializing a BertForSequenceClassification model from a BertForPreTraining model).\n",
      "- This IS NOT expected if you are initializing NewModel from the checkpoint of a model that you expect to be exactly identical (initializing a BertForSequenceClassification model from a BertForSequenceClassification model).\n"
     ]
    },
    {
     "name": "stdout",
     "output_type": "stream",
     "text": [
      "6389\n"
     ]
    }
   ],
   "source": [
    "from langchain.vectorstores import FAISS\n",
    "from langchain_huggingface import HuggingFaceEmbeddings\n",
    "\n",
    "embedding_model = HuggingFaceEmbeddings(\n",
    "            model_name=\"dunzhang/stella_en_400M_v5\",\n",
    "            model_kwargs={\n",
    "                \"trust_remote_code\": True,\n",
    "                \"device\": \"cpu\",\n",
    "                \"config_kwargs\": {\n",
    "                    \"use_memory_efficient_attention\": False,\n",
    "                    \"unpad_inputs\": False\n",
    "                }\n",
    "            }\n",
    "        )\n",
    "# Load the FAISS vectorstore\n",
    "vectorstore = FAISS.load_local(\"E:\\\\Intersnship\\\\Project-1\\\\App\\\\Vector Store\\\\vector_store_stellla_en_400M_v5\", embedding_model,allow_dangerous_deserialization=True)\n",
    "\n",
    "print(len(vectorstore.index_to_docstore_id))"
   ]
  },
  {
   "cell_type": "code",
   "execution_count": null,
   "id": "91128fb4",
   "metadata": {},
   "outputs": [],
   "source": []
  }
 ],
 "metadata": {
  "kernelspec": {
   "display_name": "Python 3",
   "language": "python",
   "name": "python3"
  },
  "language_info": {
   "codemirror_mode": {
    "name": "ipython",
    "version": 3
   },
   "file_extension": ".py",
   "mimetype": "text/x-python",
   "name": "python",
   "nbconvert_exporter": "python",
   "pygments_lexer": "ipython3",
   "version": "3.11.4"
  }
 },
 "nbformat": 4,
 "nbformat_minor": 5
}
